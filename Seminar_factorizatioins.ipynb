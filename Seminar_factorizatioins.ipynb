{
 "cells": [
  {
   "cell_type": "markdown",
   "id": "4b8a2b7d",
   "metadata": {
    "id": "4b8a2b7d"
   },
   "source": [
    "# Matrix factorizations\n",
    "\n",
    "1. Compare PCA, SVD, ALS on random matrix\n",
    "2. Get familiar with music dataset\n",
    "3. Look at item2item similarities for music"
   ]
  },
  {
   "cell_type": "code",
   "execution_count": null,
   "id": "641fd620",
   "metadata": {
    "id": "641fd620"
   },
   "outputs": [],
   "source": [
    "import numpy as np\n",
    "import matplotlib.pyplot as plt\n",
    "%matplotlib inline"
   ]
  },
  {
   "cell_type": "code",
   "execution_count": null,
   "id": "828b3747",
   "metadata": {
    "id": "828b3747"
   },
   "outputs": [],
   "source": [
    "A = np.random.randn(8, 5)"
   ]
  },
  {
   "cell_type": "markdown",
   "id": "c522205f",
   "metadata": {
    "id": "c522205f"
   },
   "source": [
    "# PCA"
   ]
  },
  {
   "cell_type": "code",
   "execution_count": null,
   "id": "99576d92",
   "metadata": {
    "id": "99576d92"
   },
   "outputs": [],
   "source": [
    "def center_mass(A):\n",
    "    return # your code here\n",
    "def covariance(A):\n",
    "    return # your code here"
   ]
  },
  {
   "cell_type": "code",
   "execution_count": null,
   "id": "94250b13",
   "metadata": {
    "id": "94250b13"
   },
   "outputs": [],
   "source": [
    "assert covariance(A).shape == (A.shape[1], A.shape[1])\n",
    "assert center_mass(A).shape == (A.shape[1],)\n",
    "assert np.allclose(covariance(A), covariance(A).T)"
   ]
  },
  {
   "cell_type": "code",
   "execution_count": null,
   "id": "709a0581",
   "metadata": {
    "id": "709a0581"
   },
   "outputs": [],
   "source": [
    "def eig_values(Q):\n",
    "    return # your code here\n",
    "def eig_vectors(Q):\n",
    "    return # your code here"
   ]
  },
  {
   "cell_type": "code",
   "execution_count": null,
   "id": "dae559a8",
   "metadata": {
    "id": "dae559a8"
   },
   "outputs": [],
   "source": [
    "D, V = eig_values(covariance(A)), eig_vectors(covariance(A))\n",
    "assert D.shape == (A.shape[1],)\n",
    "assert V.shape == (A.shape[1], A.shape[1])\n",
    "assert np.allclose(np.sort(D), D)\n",
    "assert np.allclose(V.T.dot(V), np.eye(A.shape[1]))\n",
    "assert np.allclose(V.dot(V.T), np.eye(A.shape[1]))\n",
    "assert np.allclose(np.trace(covariance(A)), D.sum())\n",
    "assert np.allclose(V.dot(np.diag(D)).dot(V.T), Q)"
   ]
  },
  {
   "cell_type": "markdown",
   "id": "4992e4d4",
   "metadata": {
    "id": "4992e4d4"
   },
   "source": [
    "Formula for pca: $A=U S V^T + {\\rm center\\space mass}$"
   ]
  },
  {
   "cell_type": "code",
   "execution_count": null,
   "id": "6c680d2a",
   "metadata": {
    "id": "6c680d2a"
   },
   "outputs": [],
   "source": [
    "def pca_decomposition(A, k):\n",
    "    # your code here\n",
    "    return U, S, V, MA\n",
    "\n",
    "def pca_recover(U, S, V, MA):\n",
    "    return # your code here"
   ]
  },
  {
   "cell_type": "code",
   "execution_count": null,
   "id": "fb82b247",
   "metadata": {
    "id": "fb82b247"
   },
   "outputs": [],
   "source": [
    "k = 2\n",
    "U, S, V, MA = pca_decomposition(A, k)\n",
    "assert pca_recover(U, S, V, MA).shape == A.shape\n",
    "assert U.shape == (A.shape[0], k)\n",
    "assert S.shape == (k, k)\n",
    "assert V.shape == (A.shape[1], k)\n",
    "assert MA.shape == (A.shape[1],)\n",
    "assert np.allclose(S, np.diag(S.diagonal()))\n",
    "assert np.allclose(np.sort(S.diagonal()), S.diagonal())\n",
    "assert np.allclose(U.T.dot(U), np.eye(k))\n",
    "assert np.allclose(V.T.dot(V), np.eye(k))\n",
    "assert not np.allclose(V.dot(V.T), np.eye(V.shape[0]))\n",
    "assert not np.allclose(U.dot(U.T), np.eye(U.shape[0]))\n",
    "assert np.allclose(pca_recover(*pca_decomposition(A, A.shape[1])), A)"
   ]
  },
  {
   "cell_type": "code",
   "execution_count": null,
   "id": "9f82804e",
   "metadata": {
    "id": "9f82804e",
    "outputId": "6a22cb8d-4f95-4dc3-b201-b0cb23375d23"
   },
   "outputs": [
    {
     "name": "stdout",
     "output_type": "stream",
     "text": [
      "52.39 29.67 10.75 4.05 0.65 0.00\n"
     ]
    }
   ],
   "source": [
    "frobenius_norms = []\n",
    "for k in range(0, 6):\n",
    "    U, S, V, MA = pca_decomposition(A, k)\n",
    "    AA = pca_recover(U, S, V, MA)\n",
    "    frobenius_norms.append(np.sum((A-AA)**2))\n",
    "\n",
    "print(*[\"{:.2f}\".format(x) for x in frobenius_norms])\n",
    "assert np.allclose(frobenius_norms[::-1], [0] + list(np.cumsum(eig_values(covariance(A)))))"
   ]
  },
  {
   "cell_type": "markdown",
   "id": "7765a21c",
   "metadata": {
    "id": "7765a21c"
   },
   "source": [
    "# SVD"
   ]
  },
  {
   "cell_type": "markdown",
   "id": "c585c9f9",
   "metadata": {
    "id": "c585c9f9"
   },
   "source": [
    "Formula for svd: $A=U S V^T$"
   ]
  },
  {
   "cell_type": "code",
   "execution_count": null,
   "id": "7832fe1e",
   "metadata": {
    "id": "7832fe1e"
   },
   "outputs": [],
   "source": [
    "def svd_decomposition(A, k):\n",
    "    # your code here\n",
    "    return U, S, V\n",
    "\n",
    "def svd_recover(U, S, V):\n",
    "    return # your code here"
   ]
  },
  {
   "cell_type": "code",
   "execution_count": null,
   "id": "ca7179f7",
   "metadata": {
    "id": "ca7179f7"
   },
   "outputs": [],
   "source": [
    "k = 2\n",
    "U, S, V = svd_decomposition(A, k)\n",
    "assert svd_recover(U, S, V).shape == A.shape\n",
    "assert U.shape == (A.shape[0], k)\n",
    "assert S.shape == (k, k)\n",
    "assert V.shape == (A.shape[1], k)\n",
    "assert np.allclose(S, np.diag(S.diagonal()))\n",
    "assert np.allclose(np.sort(S.diagonal()), S.diagonal())\n",
    "assert np.allclose(U.T.dot(U), np.eye(k))\n",
    "assert np.allclose(V.T.dot(V), np.eye(k))\n",
    "assert not np.allclose(V.dot(V.T), np.eye(V.shape[0]))\n",
    "assert not np.allclose(U.dot(U.T), np.eye(U.shape[0]))\n",
    "assert np.allclose(svd_recover(*svd_decomposition(A, A.shape[1])), A)"
   ]
  },
  {
   "cell_type": "code",
   "execution_count": null,
   "id": "855fc8f2",
   "metadata": {
    "id": "855fc8f2",
    "outputId": "4910a9f2-25ae-423d-9efd-983420c9f55a"
   },
   "outputs": [
    {
     "name": "stdout",
     "output_type": "stream",
     "text": [
      "54.23 31.37 11.33 4.59 1.04 0.00\n"
     ]
    }
   ],
   "source": [
    "frobenius_norms = []\n",
    "for k in range(0, 6):\n",
    "    U, S, V = svd_decomposition(A, k)\n",
    "    AA = svd_recover(U, S, V)\n",
    "    frobenius_norms.append(np.sum((A-AA)**2))\n",
    "\n",
    "print(*[\"{:.2f}\".format(x) for x in frobenius_norms])\n",
    "assert np.allclose(frobenius_norms[::-1], [0] + list(np.cumsum(eig_values(A.T.dot(A)))))"
   ]
  },
  {
   "cell_type": "markdown",
   "id": "73fb20be",
   "metadata": {
    "id": "73fb20be"
   },
   "source": [
    "# ALS"
   ]
  },
  {
   "cell_type": "code",
   "execution_count": null,
   "id": "cd9b333c",
   "metadata": {
    "id": "cd9b333c"
   },
   "outputs": [],
   "source": [
    "k = 2\n",
    "lam = 1e-4"
   ]
  },
  {
   "cell_type": "code",
   "execution_count": null,
   "id": "ebb677c3",
   "metadata": {
    "id": "ebb677c3"
   },
   "outputs": [],
   "source": [
    "def calc_oposite_vectors(Y, A):\n",
    "    return # your code here"
   ]
  },
  {
   "cell_type": "code",
   "execution_count": null,
   "id": "d359a96c",
   "metadata": {
    "id": "d359a96c",
    "outputId": "47f29419-2981-4a0c-a7df-65579903c9b7"
   },
   "outputs": [
    {
     "data": {
      "text/plain": [
       "<matplotlib.collections.LineCollection at 0x7f7bfbe32c40>"
      ]
     },
     "execution_count": 356,
     "metadata": {},
     "output_type": "execute_result"
    },
    {
     "data": {
      "image/png": "[encoded data removed]",
      "text/plain": [
       "<Figure size 432x288 with 1 Axes>"
      ]
     },
     "metadata": {
      "needs_background": "light"
     },
     "output_type": "display_data"
    }
   ],
   "source": [
    "X, Y = np.random.randn(A.shape[0], k), np.random.randn(A.shape[1], k)\n",
    "frobenius_norms = [np.sum((A - X.dot(Y.T))**2)]\n",
    "for i in range(20):\n",
    "    X = calc_oposite_vectors(Y, A)\n",
    "    frobenius_norms.append(np.sum((A - X.dot(Y.T))**2))\n",
    "    Y = calc_oposite_vectors(X, A.T)\n",
    "    frobenius_norms.append(np.sum((A - X.dot(Y.T))**2))\n",
    "plt.plot(frobenius_norms)\n",
    "plt.hlines(np.cumsum(eig_values(A.T.dot(A)))[A.shape[1]-k-1], 0, 20, color='black')"
   ]
  },
  {
   "cell_type": "code",
   "execution_count": null,
   "id": "0a19e669",
   "metadata": {
    "id": "0a19e669",
    "outputId": "2e8e96ce-3390-44fc-9a24-2352e4054515"
   },
   "outputs": [
    {
     "data": {
      "text/plain": [
       "[<matplotlib.lines.Line2D at 0x7f7bfbd96970>]"
      ]
     },
     "execution_count": 357,
     "metadata": {},
     "output_type": "execute_result"
    },
    {
     "data": {
      "image/png": "[encoded data removed]",
      "text/plain": [
       "<Figure size 432x288 with 1 Axes>"
      ]
     },
     "metadata": {
      "needs_background": "light"
     },
     "output_type": "display_data"
    }
   ],
   "source": [
    "plt.plot(np.log(frobenius_norms-np.cumsum(eig_values(A.T.dot(A)))[A.shape[1]-k-1]))"
   ]
  },
  {
   "cell_type": "code",
   "execution_count": null,
   "id": "bc0005c7",
   "metadata": {
    "id": "bc0005c7",
    "outputId": "63eb8373-8d99-416f-e32f-c446e38294ec",
    "scrolled": true
   },
   "outputs": [
    {
     "data": {
      "text/plain": [
       "<matplotlib.image.AxesImage at 0x7f7bfbceac40>"
      ]
     },
     "execution_count": 358,
     "metadata": {},
     "output_type": "execute_result"
    },
    {
     "data": {
      "image/png": "[encoded data removed]",
      "text/plain": [
       "<Figure size 432x288 with 1 Axes>"
      ]
     },
     "metadata": {
      "needs_background": "light"
     },
     "output_type": "display_data"
    }
   ],
   "source": [
    "plt.imshow(X.dot(X.T))"
   ]
  },
  {
   "cell_type": "code",
   "execution_count": null,
   "id": "2b1f22b8",
   "metadata": {
    "id": "2b1f22b8",
    "outputId": "75dbf296-c9dc-490b-9599-6d3ca8a3c8f2"
   },
   "outputs": [
    {
     "data": {
      "text/plain": [
       "array([[11.72760162,  1.00510008],\n",
       "       [ 1.00510008,  3.03960484]])"
      ]
     },
     "execution_count": 359,
     "metadata": {},
     "output_type": "execute_result"
    }
   ],
   "source": [
    "X.T.dot(X)"
   ]
  },
  {
   "cell_type": "code",
   "execution_count": null,
   "id": "d348096d",
   "metadata": {
    "id": "d348096d"
   },
   "outputs": [],
   "source": [
    "AA_svd = svd_recover(*svd_decomposition(A, k))\n",
    "AA_als = X.dot(Y.T)\n",
    "assert np.allclose(AA_svd, AA_als, rtol=1e-3, atol=1e-3)"
   ]
  },
  {
   "cell_type": "markdown",
   "id": "b7468264",
   "metadata": {
    "id": "b7468264"
   },
   "source": [
    "# Music dataset"
   ]
  },
  {
   "cell_type": "code",
   "execution_count": null,
   "id": "51630f5f",
   "metadata": {
    "id": "51630f5f"
   },
   "outputs": [],
   "source": [
    "import os, zipfile\n",
    "from tqdm.notebook import tqdm, tnrange\n",
    "import scipy.sparse as sp"
   ]
  },
  {
   "cell_type": "code",
   "execution_count": null,
   "id": "d2f2da9c",
   "metadata": {
    "colab": {
     "referenced_widgets": [
      "5497060d8e744f3ea4c7de99afa14c53"
     ]
    },
    "id": "d2f2da9c",
    "outputId": "b7b20f53-1584-4135-c7ff-e94b9ffd8741"
   },
   "outputs": [
    {
     "data": {
      "application/vnd.jupyter.widget-view+json": {
       "model_id": "5497060d8e744f3ea4c7de99afa14c53",
       "version_major": 2,
       "version_minor": 0
      },
      "text/plain": [
       "  0%|          | 0/3 [00:00<?, ?it/s]"
      ]
     },
     "metadata": {},
     "output_type": "display_data"
    }
   ],
   "source": [
    "base_name = \"yt___home_music_recom_burlada_recsys_2022_02_19_\"\n",
    "for fname in tqdm([n for n in os.listdir(\".\") if base_name in n and n.endswith(\".zip\")]):\n",
    "    extract_name = fname.replace(\".zip\", \"\")\n",
    "    if os.path.exists(extract_name): continue\n",
    "    with zipfile.ZipFile(fname) as f:\n",
    "        f.extract(f.filelist[0])"
   ]
  },
  {
   "cell_type": "code",
   "execution_count": null,
   "id": "90965805",
   "metadata": {
    "id": "90965805"
   },
   "outputs": [],
   "source": [
    "all_names = pd.read_json(\"yt___home_music_recom_burlada_recsys_2022_02_19_public_all_names\", lines=True)\n",
    "track_links = pd.read_json(\"yt___home_music_recom_burlada_recsys_2022_02_19_public_tracks_links\", lines=True)\n",
    "dataset = pd.read_json(\"yt___home_music_recom_burlada_recsys_2022_02_19_public_data_train\", lines=True)"
   ]
  },
  {
   "cell_type": "code",
   "execution_count": null,
   "id": "6e7c549f",
   "metadata": {
    "id": "6e7c549f",
    "outputId": "a6f3b564-7a09-4235-972c-817c1ae68938",
    "scrolled": true
   },
   "outputs": [
    {
     "data": {
      "text/html": [
       "<div>\n",
       "<style scoped>\n",
       "    .dataframe tbody tr th:only-of-type {\n",
       "        vertical-align: middle;\n",
       "    }\n",
       "\n",
       "    .dataframe tbody tr th {\n",
       "        vertical-align: top;\n",
       "    }\n",
       "\n",
       "    .dataframe thead th {\n",
       "        text-align: right;\n",
       "    }\n",
       "</style>\n",
       "<table border=\"1\" class=\"dataframe\">\n",
       "  <thead>\n",
       "    <tr style=\"text-align: right;\">\n",
       "      <th></th>\n",
       "      <th>user_id</th>\n",
       "      <th>track_ids</th>\n",
       "    </tr>\n",
       "  </thead>\n",
       "  <tbody>\n",
       "    <tr>\n",
       "      <th>0</th>\n",
       "      <td>0</td>\n",
       "      <td>[99262, 589498, 590262, 590303, 590692, 590803...</td>\n",
       "    </tr>\n",
       "    <tr>\n",
       "      <th>1</th>\n",
       "      <td>1</td>\n",
       "      <td>[24417, 108208, 108209, 592642, 628687, 733449...</td>\n",
       "    </tr>\n",
       "    <tr>\n",
       "      <th>2</th>\n",
       "      <td>2</td>\n",
       "      <td>[264937, 672689, 4321285, 5335351, 5658525, 58...</td>\n",
       "    </tr>\n",
       "    <tr>\n",
       "      <th>3</th>\n",
       "      <td>3</td>\n",
       "      <td>[6006252, 21642261, 21642265, 24692821, 259952...</td>\n",
       "    </tr>\n",
       "    <tr>\n",
       "      <th>4</th>\n",
       "      <td>4</td>\n",
       "      <td>[966, 4094, 9760, 9769, 18392, 19042, 21184, 2...</td>\n",
       "    </tr>\n",
       "    <tr>\n",
       "      <th>...</th>\n",
       "      <td>...</td>\n",
       "      <td>...</td>\n",
       "    </tr>\n",
       "    <tr>\n",
       "      <th>1373216</th>\n",
       "      <td>1374578</td>\n",
       "      <td>[24692821, 29544272, 29904955, 33236014, 33311...</td>\n",
       "    </tr>\n",
       "    <tr>\n",
       "      <th>1373217</th>\n",
       "      <td>1374579</td>\n",
       "      <td>[54994, 106259, 240171, 245392, 340459, 560468...</td>\n",
       "    </tr>\n",
       "    <tr>\n",
       "      <th>1373218</th>\n",
       "      <td>1374580</td>\n",
       "      <td>[18860, 33273, 33627, 43115, 43119, 43127, 456...</td>\n",
       "    </tr>\n",
       "    <tr>\n",
       "      <th>1373219</th>\n",
       "      <td>1374581</td>\n",
       "      <td>[1062, 37615, 40193, 65011, 69400, 117391, 366...</td>\n",
       "    </tr>\n",
       "    <tr>\n",
       "      <th>1373220</th>\n",
       "      <td>1374582</td>\n",
       "      <td>[106716, 638604, 666207, 711243, 2192958, 2214...</td>\n",
       "    </tr>\n",
       "  </tbody>\n",
       "</table>\n",
       "<p>1373221 rows × 2 columns</p>\n",
       "</div>"
      ],
      "text/plain": [
       "         user_id                                          track_ids\n",
       "0              0  [99262, 589498, 590262, 590303, 590692, 590803...\n",
       "1              1  [24417, 108208, 108209, 592642, 628687, 733449...\n",
       "2              2  [264937, 672689, 4321285, 5335351, 5658525, 58...\n",
       "3              3  [6006252, 21642261, 21642265, 24692821, 259952...\n",
       "4              4  [966, 4094, 9760, 9769, 18392, 19042, 21184, 2...\n",
       "...          ...                                                ...\n",
       "1373216  1374578  [24692821, 29544272, 29904955, 33236014, 33311...\n",
       "1373217  1374579  [54994, 106259, 240171, 245392, 340459, 560468...\n",
       "1373218  1374580  [18860, 33273, 33627, 43115, 43119, 43127, 456...\n",
       "1373219  1374581  [1062, 37615, 40193, 65011, 69400, 117391, 366...\n",
       "1373220  1374582  [106716, 638604, 666207, 711243, 2192958, 2214...\n",
       "\n",
       "[1373221 rows x 2 columns]"
      ]
     },
     "execution_count": 426,
     "metadata": {},
     "output_type": "execute_result"
    }
   ],
   "source": [
    "dataset"
   ]
  },
  {
   "cell_type": "code",
   "execution_count": null,
   "id": "f7edc62d",
   "metadata": {
    "id": "f7edc62d"
   },
   "outputs": [],
   "source": [
    "user_coo = [u for u, tracks in tqdm(dataset.iterrows()) for t in tracks.track_ids]\n",
    "item_coo = [t for u, tracks in tqdm(dataset.iterrows()) for t in tracks.track_ids]\n",
    "shape = (max(user_coo) + 1, max(item_coo) + 1)\n",
    "user_item_matrix = sp.coo_matrix((np.ones(len(user_coo)), (user_coo, item_coo)), shape=shape)\n",
    "user_item_matrix = user_item_matrix.tocsr()\n",
    "sp.save_npz(\"data_train.npz\", user_item_matrix)"
   ]
  },
  {
   "cell_type": "code",
   "execution_count": null,
   "id": "2c28f27f",
   "metadata": {
    "colab": {
     "referenced_widgets": [
      "5d1fe7249f36453ea55be3154245f23c"
     ]
    },
    "id": "2c28f27f",
    "outputId": "a956aa6f-1e83-4b36-b4f8-034aa0cd47bb"
   },
   "outputs": [
    {
     "data": {
      "application/vnd.jupyter.widget-view+json": {
       "model_id": "5d1fe7249f36453ea55be3154245f23c",
       "version_major": 2,
       "version_minor": 0
      },
      "text/plain": [
       "  0%|          | 0/101521820 [00:00<?, ?it/s]"
      ]
     },
     "metadata": {},
     "output_type": "display_data"
    }
   ],
   "source": [
    "item_weights = np.array(user_item_matrix.tocsc().sum(0))[0]\n",
    "top_to_bottom_order = np.argsort(-item_weights)\n",
    "item_mapping = {t:p for p, t in enumerate(tqdm(top_to_bottom_order))}\n",
    "total_item_count = (item_weights > 0).sum()\n",
    "total_user_count = user_item_matrix.shape[0]\n",
    "\n",
    "def build_dataset(user_item_matrix, item_pct, user_pct):\n",
    "    user_count, item_count = int(total_user_count * user_pct), int(total_item_count * item_pct)\n",
    "    item_ids = top_to_bottom_order[:item_count]\n",
    "    user_ids = np.random.choice(np.arange(user_item_matrix.shape[0]), size=user_count, replace=False)\n",
    "    train = user_item_matrix[user_ids]\n",
    "    train = train[:, item_ids]\n",
    "    return train"
   ]
  },
  {
   "cell_type": "code",
   "execution_count": null,
   "id": "686636b3",
   "metadata": {
    "id": "686636b3"
   },
   "outputs": [],
   "source": [
    "small_dataset = build_dataset(user_item_matrix, 0.05, 0.05)"
   ]
  },
  {
   "cell_type": "code",
   "execution_count": null,
   "id": "d7e2ed41",
   "metadata": {
    "id": "d7e2ed41"
   },
   "outputs": [],
   "source": [
    "from implicit.nearest_neighbours import ItemItemRecommender"
   ]
  },
  {
   "cell_type": "code",
   "execution_count": null,
   "id": "4caa59d0",
   "metadata": {
    "id": "4caa59d0"
   },
   "outputs": [],
   "source": [
    "recommender = ItemItemRecommender()"
   ]
  },
  {
   "cell_type": "code",
   "execution_count": null,
   "id": "95577dba",
   "metadata": {
    "colab": {
     "referenced_widgets": [
      "5ce50bd2f82a408dae2ffd5904500556"
     ]
    },
    "id": "95577dba",
    "outputId": "89290e03-6060-4950-8d22-27931ba44cf9"
   },
   "outputs": [
    {
     "data": {
      "application/vnd.jupyter.widget-view+json": {
       "model_id": "5ce50bd2f82a408dae2ffd5904500556",
       "version_major": 2,
       "version_minor": 0
      },
      "text/plain": [
       "  0%|          | 0/50000 [00:00<?, ?it/s]"
      ]
     },
     "metadata": {},
     "output_type": "display_data"
    }
   ],
   "source": [
    "recommender.fit(small_dataset)"
   ]
  },
  {
   "cell_type": "code",
   "execution_count": null,
   "id": "e3d0dda8",
   "metadata": {
    "id": "e3d0dda8",
    "outputId": "ab62c211-1027-42fd-d30f-aca79432c616"
   },
   "outputs": [
    {
     "data": {
      "text/plain": [
       "[54302022,\n",
       " 17530540,\n",
       " 29732355,\n",
       " 178529,\n",
       " 33311009,\n",
       " 53404,\n",
       " 51241318,\n",
       " 328683,\n",
       " 57043164,\n",
       " 29544272]"
      ]
     },
     "execution_count": 450,
     "metadata": {},
     "output_type": "execute_result"
    }
   ],
   "source": [
    "[top_to_bottom_order[k] for k in recommender.similar_items(item_mapping[54302022])[0]]"
   ]
  },
  {
   "cell_type": "code",
   "execution_count": null,
   "id": "cacb3008",
   "metadata": {
    "id": "cacb3008"
   },
   "outputs": [],
   "source": []
  }
 ],
 "metadata": {
  "colab": {
   "provenance": []
  },
  "kernelspec": {
   "display_name": "Python 3 (ipykernel)",
   "language": "python",
   "name": "python3"
  },
  "language_info": {
   "codemirror_mode": {
    "name": "ipython",
    "version": 3
   },
   "file_extension": ".py",
   "mimetype": "text/x-python",
   "name": "python",
   "nbconvert_exporter": "python",
   "pygments_lexer": "ipython3",
   "version": "3.8.11"
  },
  "toc": {
   "base_numbering": 1,
   "nav_menu": {},
   "number_sections": true,
   "sideBar": true,
   "skip_h1_title": false,
   "title_cell": "Table of Contents",
   "title_sidebar": "Contents",
   "toc_cell": false,
   "toc_position": {},
   "toc_section_display": true,
   "toc_window_display": true
  }
 },
 "nbformat": 4,
 "nbformat_minor": 5
}

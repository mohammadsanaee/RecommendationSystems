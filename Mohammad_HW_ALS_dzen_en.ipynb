{
 "cells": [
  {
   "cell_type": "markdown",
   "id": "aaf10263",
   "metadata": {},
   "source": [
    "# ALS applications\n",
    "\n",
    "## Implement ALS, IALS (20 points each)"
   ]
  },
  {
   "cell_type": "code",
   "execution_count": 2,
   "id": "475184f6",
   "metadata": {
    "ExecuteTime": {
     "end_time": "2023-11-06T04:18:26.367531Z",
     "start_time": "2023-11-06T04:18:26.200308Z"
    }
   },
   "outputs": [],
   "source": [
    "import numpy as np"
   ]
  },
  {
   "cell_type": "code",
   "execution_count": 3,
   "id": "9e6bfc5a-6939-49fc-b44e-a826af8c91d0",
   "metadata": {},
   "outputs": [],
   "source": [
    "import numpy as np\n",
    "\n",
    "def als(ratings: np.ndarray, k: int, iterations=10, alpha=0.01, lambda_reg=0.1):\n",
    "    num_users, num_items = ratings.shape\n",
    "    user_embeddings = np.random.rand(num_users, k)\n",
    "    item_embeddings = np.random.rand(num_items, k)\n",
    "\n",
    "    # print(\"user_embeddings shape:\", user_embeddings.shape)\n",
    "    # print(\"item_embeddings shape:\", item_embeddings.shape)\n",
    "    for _ in range(iterations):\n",
    "        for u in range(num_users):\n",
    "            item_indices = ratings[u, :].nonzero()[0]  # Items rated by user u\n",
    "            if len (item_indices) == 0:\n",
    "                continue\n",
    "            M = item_embeddings[item_indices, :]\n",
    "            r = ratings[u, item_indices]        \n",
    "            r = r.reshape(-1, 1)\n",
    "            user_embeddings[u, :] = (M.T @ r).flatten()\n",
    "        for i in range(num_items):\n",
    "            user_indices = ratings[:, i].nonzero()[0]  \n",
    "            if len(user_indices) == 0:\n",
    "                continue\n",
    "            M = user_embeddings[user_indices, :]\n",
    "            r = ratings[user_indices, i]\n",
    "            r = r.reshape(-1, 1)\n",
    "            item_embeddings[i, :] = (M.T @ r).flatten()\n",
    "    return user_embeddings, item_embeddings\n"
   ]
  },
  {
   "cell_type": "code",
   "execution_count": 4,
   "id": "1d23dd9b-4f67-44ed-aa92-f964825d48c5",
   "metadata": {},
   "outputs": [
    {
     "name": "stdout",
     "output_type": "stream",
     "text": [
      "[[5.44219299e+17 3.96500568e+17]\n",
      " [3.70177806e+17 2.69701444e+17]\n",
      " [6.42770504e+17 4.68445307e+17]\n",
      " [4.98367154e+17 3.63206243e+17]\n",
      " [6.76389854e+17 4.93012889e+17]]\n",
      "[[5.34294538e+18 3.89296016e+18]\n",
      " [2.95181826e+18 2.15095990e+18]\n",
      " [3.38194927e+18 2.46506444e+18]\n",
      " [8.82727766e+18 6.43330507e+18]]\n"
     ]
    }
   ],
   "source": [
    "num_users = 5\n",
    "num_items = 4\n",
    "k = 2\n",
    "ratings = np.array([\n",
    "    [5, 3, 0, 1],\n",
    "    [4, 0, 0, 1],\n",
    "    [1, 1, 0, 5],\n",
    "    [1, 0, 0, 4],\n",
    "    [0, 1, 5, 4]\n",
    "])\n",
    "user_embeddings, item_embeddings = als(ratings, k)\n",
    "assert user_embeddings.shape == (num_users, k)\n",
    "assert item_embeddings.shape == (num_items, k)\n",
    "print(user_embeddings)\n",
    "print(item_embeddings)"
   ]
  },
  {
   "cell_type": "code",
   "execution_count": 5,
   "id": "afbe0734-43a6-4ccc-98fa-369cf61ec1d8",
   "metadata": {},
   "outputs": [],
   "source": [
    "import numpy as np\n",
    "from scipy.sparse import csr_matrix\n",
    "\n",
    "def ials(ratings: csr_matrix, k: int, iterations=10, alpha=40, lambda_reg=0.1):\n",
    "    num_users, num_items = ratings.shape\n",
    "    user_embeddings = np.random.rand(num_users, k)\n",
    "    item_embeddings = np.random.rand(num_items, k)\n",
    "    # print(\"user_embeddings shape:\", user_embeddings.shape)\n",
    "    # print(\"item_embeddings shape:\", item_embeddings.shape)\n",
    "    C = alpha * ratings.copy()\n",
    "    for _ in range(iterations):\n",
    "        for u in range(num_users):\n",
    "            confidence = C[u, :].toarray().flatten()\n",
    "            item_indices = confidence.nonzero()[0]\n",
    "\n",
    "            if len(item_indices) == 0:\n",
    "                continue\n",
    "            M = item_embeddings[item_indices, :]\n",
    "            C_u = np.diag(confidence[item_indices])\n",
    "            user_embeddings[u, :] = np.linalg.solve(M.T @ C_u @ M + lambda_reg * np.eye(k), M.T @ C_u @ confidence[item_indices])\n",
    "        for i in range(num_items):\n",
    "            confidence = C[:, i].toarray().flatten()\n",
    "            user_indices = confidence.nonzero()[0]\n",
    "            if len(user_indices) == 0:\n",
    "                continue\n",
    "            M = user_embeddings[user_indices, :]\n",
    "            C_i = np.diag(confidence[user_indices])\n",
    "            item_embeddings[i, :] = np.linalg.solve(M.T @ C_i @ M + lambda_reg * np.eye(k), M.T @ C_i @ confidence[user_indices])\n",
    "\n",
    "    return user_embeddings, item_embeddings\n"
   ]
  },
  {
   "cell_type": "markdown",
   "id": "b7468264",
   "metadata": {},
   "source": [
    "## Read Dzen dataset (no points, already imlemented)\n",
    "\n",
    "Data comes from [dzen.ru](http://dzen.ru/) site and consists of likes which users put to text articles\n",
    "\n",
    "### Columns\n",
    "1. item_id - unique id of an item (article)\n",
    "2. user_id - unique id of a user\n",
    "3. source_id - unique id of an author. If two items have same source_id, then they come from one author\n",
    "4. Name of item is name of the article\n",
    "5. Raw dataset represents user_id and list of item_ids which user liked\n",
    "\n",
    "### Data files\n",
    "\n",
    "You need to download it to current directory\n",
    "\n",
    "1. Dataset: https://disk.yandex.ru/d/uUx1MMsZUR87Sw\n",
    "2. Item names: https://disk.yandex.ru/d/_ZMXsmki-OtLJA\n",
    "3. item_id and source_id links: https://disk.yandex.ru/d/GCryohhLbYPFoA"
   ]
  },
  {
   "cell_type": "code",
   "execution_count": 6,
   "id": "51630f5f",
   "metadata": {
    "ExecuteTime": {
     "end_time": "2023-06-07T21:31:43.942096Z",
     "start_time": "2023-06-07T21:31:43.139524Z"
    }
   },
   "outputs": [],
   "source": [
    "import pandas as pd\n",
    "import scipy.sparse as sp\n",
    "from tqdm.notebook import tqdm"
   ]
  },
  {
   "cell_type": "code",
   "execution_count": 7,
   "id": "90965805",
   "metadata": {
    "ExecuteTime": {
     "end_time": "2023-06-07T21:31:45.414950Z",
     "start_time": "2023-06-07T21:31:44.581759Z"
    }
   },
   "outputs": [],
   "source": [
    "all_names = pd.read_json(\"item_id_to_name.json\", lines=False)\n",
    "item_links = pd.read_json(\"item_id_to_source_id.json\", lines=False)\n",
    "dataset = pd.read_json(\"dataset_zen.json\", lines=False)"
   ]
  },
  {
   "cell_type": "code",
   "execution_count": 8,
   "id": "772f1375",
   "metadata": {
    "ExecuteTime": {
     "end_time": "2023-06-07T21:31:46.293533Z",
     "start_time": "2023-06-07T21:31:46.269174Z"
    }
   },
   "outputs": [
    {
     "data": {
      "text/html": [
       "<div>\n",
       "<style scoped>\n",
       "    .dataframe tbody tr th:only-of-type {\n",
       "        vertical-align: middle;\n",
       "    }\n",
       "\n",
       "    .dataframe tbody tr th {\n",
       "        vertical-align: top;\n",
       "    }\n",
       "\n",
       "    .dataframe thead th {\n",
       "        text-align: right;\n",
       "    }\n",
       "</style>\n",
       "<table border=\"1\" class=\"dataframe\">\n",
       "  <thead>\n",
       "    <tr style=\"text-align: right;\">\n",
       "      <th></th>\n",
       "      <th>id</th>\n",
       "      <th>name</th>\n",
       "    </tr>\n",
       "  </thead>\n",
       "  <tbody>\n",
       "    <tr>\n",
       "      <th>0</th>\n",
       "      <td>94962</td>\n",
       "      <td>Что обычно ожидало русских казачек в руках у к...</td>\n",
       "    </tr>\n",
       "    <tr>\n",
       "      <th>1</th>\n",
       "      <td>3972</td>\n",
       "      <td>Почему Россия решила строить новую скоростную ...</td>\n",
       "    </tr>\n",
       "    <tr>\n",
       "      <th>2</th>\n",
       "      <td>94644</td>\n",
       "      <td>5 неприличных фактов об Андрее Макаревиче, кот...</td>\n",
       "    </tr>\n",
       "    <tr>\n",
       "      <th>3</th>\n",
       "      <td>82518</td>\n",
       "      <td>Что стало с красавицей Хмельницкой, которую му...</td>\n",
       "    </tr>\n",
       "    <tr>\n",
       "      <th>4</th>\n",
       "      <td>53264</td>\n",
       "      <td>Понять и Простить: Почему угонщики, бежавшие и...</td>\n",
       "    </tr>\n",
       "    <tr>\n",
       "      <th>...</th>\n",
       "      <td>...</td>\n",
       "      <td>...</td>\n",
       "    </tr>\n",
       "    <tr>\n",
       "      <th>104498</th>\n",
       "      <td>36769</td>\n",
       "      <td>Плюс один источник мифа о рыцарях, неспособных...</td>\n",
       "    </tr>\n",
       "    <tr>\n",
       "      <th>104499</th>\n",
       "      <td>9190</td>\n",
       "      <td>Мой сад - малоуходный</td>\n",
       "    </tr>\n",
       "    <tr>\n",
       "      <th>104500</th>\n",
       "      <td>52731</td>\n",
       "      <td>Купил первую в жизни циркулярную пилу. Честный...</td>\n",
       "    </tr>\n",
       "    <tr>\n",
       "      <th>104501</th>\n",
       "      <td>72660</td>\n",
       "      <td>Решили предложить Марине помощь в лечении ч.10</td>\n",
       "    </tr>\n",
       "    <tr>\n",
       "      <th>104502</th>\n",
       "      <td>53987</td>\n",
       "      <td>Мама и сестра меня предали, я с ними не общаюсь</td>\n",
       "    </tr>\n",
       "  </tbody>\n",
       "</table>\n",
       "<p>104503 rows × 2 columns</p>\n",
       "</div>"
      ],
      "text/plain": [
       "           id                                               name\n",
       "0       94962  Что обычно ожидало русских казачек в руках у к...\n",
       "1        3972  Почему Россия решила строить новую скоростную ...\n",
       "2       94644  5 неприличных фактов об Андрее Макаревиче, кот...\n",
       "3       82518  Что стало с красавицей Хмельницкой, которую му...\n",
       "4       53264  Понять и Простить: Почему угонщики, бежавшие и...\n",
       "...       ...                                                ...\n",
       "104498  36769  Плюс один источник мифа о рыцарях, неспособных...\n",
       "104499   9190                              Мой сад - малоуходный\n",
       "104500  52731  Купил первую в жизни циркулярную пилу. Честный...\n",
       "104501  72660     Решили предложить Марине помощь в лечении ч.10\n",
       "104502  53987    Мама и сестра меня предали, я с ними не общаюсь\n",
       "\n",
       "[104503 rows x 2 columns]"
      ]
     },
     "execution_count": 8,
     "metadata": {},
     "output_type": "execute_result"
    }
   ],
   "source": [
    "all_names"
   ]
  },
  {
   "cell_type": "code",
   "execution_count": 9,
   "id": "cb0aa9e5",
   "metadata": {
    "ExecuteTime": {
     "end_time": "2023-06-07T21:31:47.066054Z",
     "start_time": "2023-06-07T21:31:47.045452Z"
    }
   },
   "outputs": [
    {
     "data": {
      "text/html": [
       "<div>\n",
       "<style scoped>\n",
       "    .dataframe tbody tr th:only-of-type {\n",
       "        vertical-align: middle;\n",
       "    }\n",
       "\n",
       "    .dataframe tbody tr th {\n",
       "        vertical-align: top;\n",
       "    }\n",
       "\n",
       "    .dataframe thead th {\n",
       "        text-align: right;\n",
       "    }\n",
       "</style>\n",
       "<table border=\"1\" class=\"dataframe\">\n",
       "  <thead>\n",
       "    <tr style=\"text-align: right;\">\n",
       "      <th></th>\n",
       "      <th>id</th>\n",
       "      <th>source</th>\n",
       "    </tr>\n",
       "  </thead>\n",
       "  <tbody>\n",
       "    <tr>\n",
       "      <th>0</th>\n",
       "      <td>94962</td>\n",
       "      <td>2919814402697966089</td>\n",
       "    </tr>\n",
       "    <tr>\n",
       "      <th>1</th>\n",
       "      <td>3972</td>\n",
       "      <td>3263022753228392991</td>\n",
       "    </tr>\n",
       "    <tr>\n",
       "      <th>2</th>\n",
       "      <td>94644</td>\n",
       "      <td>-3857390427602554682</td>\n",
       "    </tr>\n",
       "    <tr>\n",
       "      <th>3</th>\n",
       "      <td>82518</td>\n",
       "      <td>-9036908390349249792</td>\n",
       "    </tr>\n",
       "    <tr>\n",
       "      <th>4</th>\n",
       "      <td>53264</td>\n",
       "      <td>3353856219169766284</td>\n",
       "    </tr>\n",
       "    <tr>\n",
       "      <th>...</th>\n",
       "      <td>...</td>\n",
       "      <td>...</td>\n",
       "    </tr>\n",
       "    <tr>\n",
       "      <th>104498</th>\n",
       "      <td>36769</td>\n",
       "      <td>3818746211375738614</td>\n",
       "    </tr>\n",
       "    <tr>\n",
       "      <th>104499</th>\n",
       "      <td>9190</td>\n",
       "      <td>4975535765688979937</td>\n",
       "    </tr>\n",
       "    <tr>\n",
       "      <th>104500</th>\n",
       "      <td>52731</td>\n",
       "      <td>3720366796439288909</td>\n",
       "    </tr>\n",
       "    <tr>\n",
       "      <th>104501</th>\n",
       "      <td>72660</td>\n",
       "      <td>-7860042973720636310</td>\n",
       "    </tr>\n",
       "    <tr>\n",
       "      <th>104502</th>\n",
       "      <td>53987</td>\n",
       "      <td>-1613465697218833842</td>\n",
       "    </tr>\n",
       "  </tbody>\n",
       "</table>\n",
       "<p>104503 rows × 2 columns</p>\n",
       "</div>"
      ],
      "text/plain": [
       "           id               source\n",
       "0       94962  2919814402697966089\n",
       "1        3972  3263022753228392991\n",
       "2       94644 -3857390427602554682\n",
       "3       82518 -9036908390349249792\n",
       "4       53264  3353856219169766284\n",
       "...       ...                  ...\n",
       "104498  36769  3818746211375738614\n",
       "104499   9190  4975535765688979937\n",
       "104500  52731  3720366796439288909\n",
       "104501  72660 -7860042973720636310\n",
       "104502  53987 -1613465697218833842\n",
       "\n",
       "[104503 rows x 2 columns]"
      ]
     },
     "execution_count": 9,
     "metadata": {},
     "output_type": "execute_result"
    }
   ],
   "source": [
    "item_links"
   ]
  },
  {
   "cell_type": "code",
   "execution_count": 10,
   "id": "f788e369",
   "metadata": {
    "ExecuteTime": {
     "end_time": "2023-06-07T21:31:47.943529Z",
     "start_time": "2023-06-07T21:31:47.920699Z"
    }
   },
   "outputs": [
    {
     "data": {
      "text/html": [
       "<div>\n",
       "<style scoped>\n",
       "    .dataframe tbody tr th:only-of-type {\n",
       "        vertical-align: middle;\n",
       "    }\n",
       "\n",
       "    .dataframe tbody tr th {\n",
       "        vertical-align: top;\n",
       "    }\n",
       "\n",
       "    .dataframe thead th {\n",
       "        text-align: right;\n",
       "    }\n",
       "</style>\n",
       "<table border=\"1\" class=\"dataframe\">\n",
       "  <thead>\n",
       "    <tr style=\"text-align: right;\">\n",
       "      <th></th>\n",
       "      <th>user_id</th>\n",
       "      <th>item_ids</th>\n",
       "    </tr>\n",
       "  </thead>\n",
       "  <tbody>\n",
       "    <tr>\n",
       "      <th>0</th>\n",
       "      <td>993675863667353526</td>\n",
       "      <td>[15267, 61075, 81203, 17066, 25471, 88427, 638...</td>\n",
       "    </tr>\n",
       "    <tr>\n",
       "      <th>1</th>\n",
       "      <td>4250619547882954185</td>\n",
       "      <td>[4555, 94644, 84972, 17774, 94962, 78217, 2485...</td>\n",
       "    </tr>\n",
       "    <tr>\n",
       "      <th>2</th>\n",
       "      <td>3847785305345691076</td>\n",
       "      <td>[1898, 26703, 16525, 86939, 55017, 31069, 4035...</td>\n",
       "    </tr>\n",
       "    <tr>\n",
       "      <th>3</th>\n",
       "      <td>1785181112918558233</td>\n",
       "      <td>[75601, 102458, 28716, 100694, 5757, 47104, 60...</td>\n",
       "    </tr>\n",
       "    <tr>\n",
       "      <th>4</th>\n",
       "      <td>5078748097863903181</td>\n",
       "      <td>[72260, 40825, 2615, 42549, 379, 100818, 56827...</td>\n",
       "    </tr>\n",
       "    <tr>\n",
       "      <th>...</th>\n",
       "      <td>...</td>\n",
       "      <td>...</td>\n",
       "    </tr>\n",
       "    <tr>\n",
       "      <th>75905</th>\n",
       "      <td>4954138831959898373</td>\n",
       "      <td>[11881, 55520, 63054, 48015, 66952, 103830, 21...</td>\n",
       "    </tr>\n",
       "    <tr>\n",
       "      <th>75906</th>\n",
       "      <td>4967793435819938014</td>\n",
       "      <td>[74697, 11830, 63858, 87245, 41956, 62089, 686...</td>\n",
       "    </tr>\n",
       "    <tr>\n",
       "      <th>75907</th>\n",
       "      <td>7137764184903122777</td>\n",
       "      <td>[10353, 1775, 103680, 29704, 9782, 13295, 9975...</td>\n",
       "    </tr>\n",
       "    <tr>\n",
       "      <th>75908</th>\n",
       "      <td>2624987805086334956</td>\n",
       "      <td>[24324, 18854, 73319, 66641, 64078, 97387, 426...</td>\n",
       "    </tr>\n",
       "    <tr>\n",
       "      <th>75909</th>\n",
       "      <td>4022390127079841428</td>\n",
       "      <td>[64748, 64490, 99490, 80080, 8419, 84702, 7582...</td>\n",
       "    </tr>\n",
       "  </tbody>\n",
       "</table>\n",
       "<p>75910 rows × 2 columns</p>\n",
       "</div>"
      ],
      "text/plain": [
       "                   user_id                                           item_ids\n",
       "0       993675863667353526  [15267, 61075, 81203, 17066, 25471, 88427, 638...\n",
       "1      4250619547882954185  [4555, 94644, 84972, 17774, 94962, 78217, 2485...\n",
       "2      3847785305345691076  [1898, 26703, 16525, 86939, 55017, 31069, 4035...\n",
       "3      1785181112918558233  [75601, 102458, 28716, 100694, 5757, 47104, 60...\n",
       "4      5078748097863903181  [72260, 40825, 2615, 42549, 379, 100818, 56827...\n",
       "...                    ...                                                ...\n",
       "75905  4954138831959898373  [11881, 55520, 63054, 48015, 66952, 103830, 21...\n",
       "75906  4967793435819938014  [74697, 11830, 63858, 87245, 41956, 62089, 686...\n",
       "75907  7137764184903122777  [10353, 1775, 103680, 29704, 9782, 13295, 9975...\n",
       "75908  2624987805086334956  [24324, 18854, 73319, 66641, 64078, 97387, 426...\n",
       "75909  4022390127079841428  [64748, 64490, 99490, 80080, 8419, 84702, 7582...\n",
       "\n",
       "[75910 rows x 2 columns]"
      ]
     },
     "execution_count": 10,
     "metadata": {},
     "output_type": "execute_result"
    }
   ],
   "source": [
    "dataset"
   ]
  },
  {
   "cell_type": "code",
   "execution_count": 11,
   "id": "e8820e36",
   "metadata": {
    "ExecuteTime": {
     "end_time": "2023-06-07T21:31:55.339206Z",
     "start_time": "2023-06-07T21:31:51.973369Z"
    }
   },
   "outputs": [
    {
     "data": {
      "application/vnd.jupyter.widget-view+json": {
       "model_id": "39607111dff149e192c6e0f9511300e0",
       "version_major": 2,
       "version_minor": 0
      },
      "text/plain": [
       "  0%|          | 0/75910 [00:00<?, ?it/s]"
      ]
     },
     "metadata": {},
     "output_type": "display_data"
    }
   ],
   "source": [
    "total_interactions_count = dataset.item_ids.map(len).sum()\n",
    "user_coo = np.zeros(total_interactions_count, dtype=np.int64)\n",
    "item_coo = np.zeros(total_interactions_count, dtype=np.int64)\n",
    "pos = 0\n",
    "\n",
    "for user_id, item_ids in enumerate(tqdm(dataset.item_ids)):\n",
    "    user_coo[pos : pos + len(item_ids)] = user_id\n",
    "    item_coo[pos : pos + len(item_ids)] = item_ids\n",
    "    pos += len(item_ids)\n",
    "shape = (max(user_coo) + 1, max(item_coo) + 1)\n",
    "user_item_matrix = sp.coo_matrix(\n",
    "    (np.ones(len(user_coo)), (user_coo, item_coo)), shape=shape\n",
    ")\n",
    "user_item_matrix = user_item_matrix.tocsr()\n",
    "sp.save_npz(\"data_train.npz\", user_item_matrix)\n",
    "# Cleanup memory. Later you need just data_train.npz\n",
    "del user_coo\n",
    "del item_coo\n",
    "del dataset"
   ]
  },
  {
   "cell_type": "code",
   "execution_count": 12,
   "id": "b694e04f",
   "metadata": {
    "ExecuteTime": {
     "end_time": "2023-06-07T21:32:04.714869Z",
     "start_time": "2023-06-07T21:32:04.568491Z"
    }
   },
   "outputs": [],
   "source": [
    "# you could start here if you already done precomputing\n",
    "user_item_matrix = sp.load_npz(\"data_train.npz\")"
   ]
  },
  {
   "cell_type": "code",
   "execution_count": 13,
   "id": "2eacfa5e",
   "metadata": {
    "ExecuteTime": {
     "end_time": "2023-06-07T21:32:17.252065Z",
     "start_time": "2023-06-07T21:32:17.239886Z"
    }
   },
   "outputs": [
    {
     "data": {
      "text/plain": [
       "<75910x104503 sparse matrix of type '<class 'numpy.float64'>'\n",
       "\twith 5792423 stored elements in Compressed Sparse Row format>"
      ]
     },
     "execution_count": 13,
     "metadata": {},
     "output_type": "execute_result"
    }
   ],
   "source": [
    "user_item_matrix"
   ]
  },
  {
   "cell_type": "code",
   "execution_count": 14,
   "id": "4cd37f54",
   "metadata": {
    "ExecuteTime": {
     "end_time": "2023-06-07T21:32:24.023986Z",
     "start_time": "2023-06-07T21:32:23.942940Z"
    }
   },
   "outputs": [],
   "source": [
    "item_weights = np.array(user_item_matrix.tocsc().sum(0))[0]\n",
    "top_to_bottom_order = np.argsort(-item_weights)\n",
    "item_mapping = np.empty(top_to_bottom_order.shape, dtype=int)\n",
    "item_mapping[top_to_bottom_order] = np.arange(len(top_to_bottom_order))\n",
    "total_item_count = (item_weights > 0).sum()\n",
    "total_user_count = user_item_matrix.shape[0]\n",
    "\n",
    "\n",
    "def build_dataset(user_item_matrix, item_pct, user_pct):\n",
    "    user_count, item_count = int(total_user_count * user_pct), int(\n",
    "        total_item_count * item_pct\n",
    "    )\n",
    "    item_ids = top_to_bottom_order[:item_count]\n",
    "    user_ids = np.random.choice(\n",
    "        np.arange(user_item_matrix.shape[0]), size=user_count, replace=False\n",
    "    )\n",
    "    train = user_item_matrix[user_ids]\n",
    "    train = train[:, item_ids]\n",
    "    return train"
   ]
  },
  {
   "cell_type": "code",
   "execution_count": 15,
   "id": "678c5a52",
   "metadata": {
    "ExecuteTime": {
     "end_time": "2023-06-07T21:32:24.803339Z",
     "start_time": "2023-06-07T21:32:24.782858Z"
    }
   },
   "outputs": [],
   "source": [
    "small_dataset = build_dataset(user_item_matrix, 0.01, 0.01)"
   ]
  },
  {
   "cell_type": "code",
   "execution_count": 16,
   "id": "e36857af-0f63-436b-b046-095c6374a198",
   "metadata": {},
   "outputs": [],
   "source": [
    "main_dataset = build_dataset(user_item_matrix, 0.1, 0.1)"
   ]
  },
  {
   "cell_type": "markdown",
   "id": "536eb9ab",
   "metadata": {},
   "source": [
    "## Split dataset matrix (10 points)\n",
    "\n",
    "in the following way: for 20% of users (random) remove one like - this will be test data. The rest is train data. (10 points)"
   ]
  },
  {
   "cell_type": "code",
   "execution_count": 17,
   "id": "908e3f9d-6185-4b1b-a001-3a5ba10db92e",
   "metadata": {},
   "outputs": [],
   "source": [
    "import scipy.sparse as sp\n",
    "def split_data(user_item_matrix, test_user_pct=0.2):\n",
    "    train_matrix = user_item_matrix.copy()\n",
    "    test_matrix = user_item_matrix.copy()\n",
    "\n",
    "    total_users = user_item_matrix.shape[0]\n",
    "\n",
    "    for user_id in range(total_users):\n",
    "        if np.random.rand() < test_user_pct:\n",
    "            liked_indices = train_matrix[user_id].nonzero()[1]\n",
    "            if liked_indices.size > 0:\n",
    "                item_to_remove = np.random.choice(liked_indices)\n",
    "                test_matrix[user_id, item_to_remove] = 0  # Remove the like from the test set\n",
    "                train_matrix[user_id, item_to_remove] = 0  # Remove the like from the train set\n",
    "    train_matrix = train_matrix.tocsr()\n",
    "    test_matrix = test_matrix.tocsr()\n",
    "    return train_matrix, test_matrix\n",
    "train_matrix, test_matrix = split_data(main_dataset, test_user_pct=0.2)\n"
   ]
  },
  {
   "cell_type": "code",
   "execution_count": 18,
   "id": "be02d60c-edf0-4d09-8504-24d0b341b837",
   "metadata": {},
   "outputs": [
    {
     "data": {
      "text/plain": [
       "(7591, 10038)"
      ]
     },
     "execution_count": 18,
     "metadata": {},
     "output_type": "execute_result"
    }
   ],
   "source": [
    "train_matrix.shape"
   ]
  },
  {
   "cell_type": "code",
   "execution_count": 19,
   "id": "0334e01f-29da-4d8c-8cb5-2ec4e2d3edb2",
   "metadata": {},
   "outputs": [
    {
     "data": {
      "text/plain": [
       "(7591, 10038)"
      ]
     },
     "execution_count": 19,
     "metadata": {},
     "output_type": "execute_result"
    }
   ],
   "source": [
    "test_matrix.shape"
   ]
  },
  {
   "cell_type": "code",
   "execution_count": 20,
   "id": "62117b45-db26-4c62-bbcf-5e9f2f3d2e60",
   "metadata": {},
   "outputs": [
    {
     "data": {
      "text/plain": [
       "(75910, 104503)"
      ]
     },
     "execution_count": 20,
     "metadata": {},
     "output_type": "execute_result"
    }
   ],
   "source": [
    "user_item_matrix.shape"
   ]
  },
  {
   "cell_type": "markdown",
   "id": "ce1d293f",
   "metadata": {},
   "source": [
    "## Compute MRR@100 metric for test users (10 points)\n",
    "\n",
    "For ALS and IALS algorithms"
   ]
  },
  {
   "cell_type": "code",
   "execution_count": 21,
   "id": "5d5e546a-fddd-444e-9d7b-bfa17506bc18",
   "metadata": {},
   "outputs": [],
   "source": [
    "user_embeddings, item_embeddings = als(train_matrix, k=5, iterations=1, alpha=0.01, lambda_reg=0.1)\n"
   ]
  },
  {
   "cell_type": "code",
   "execution_count": 22,
   "id": "ef8cdb0d",
   "metadata": {},
   "outputs": [],
   "source": [
    "def mrr(predictions, test_ratings):\n",
    "    mrr_sum = 0.0\n",
    "    num_users = test_ratings.shape[0]\n",
    "\n",
    "    for user_id in range(num_users):\n",
    "        predicted_scores = predictions[user_id]\n",
    "        test_items = test_ratings[user_id].nonzero()[1]\n",
    "        sorted_items = [item for item, score in sorted(enumerate(predicted_scores), key=lambda x: x[1], reverse=True)]\n",
    "        for rank, item in enumerate(sorted_items[:min(100, len(sorted_items))], 1):\n",
    "            if test_items.size > 0 and item in test_items:\n",
    "                mrr_sum += 1.0 / rank\n",
    "                break  \n",
    "    mrr_value = mrr_sum / num_users\n",
    "    return mrr_value"
   ]
  },
  {
   "cell_type": "code",
   "execution_count": 23,
   "id": "b217698a-59d1-49bf-ab86-d202fa84caeb",
   "metadata": {},
   "outputs": [
    {
     "name": "stdout",
     "output_type": "stream",
     "text": [
      "MRR ALS @100: 0.17472572748568868\n"
     ]
    }
   ],
   "source": [
    "als_predictions = np.dot(user_embeddings, item_embeddings.T)\n",
    "mrr_als = mrr(als_predictions, test_matrix)\n",
    "print(\"MRR ALS @100:\", mrr_als)"
   ]
  },
  {
   "cell_type": "code",
   "execution_count": 24,
   "id": "89c5d0b3-1030-4936-9c8f-d8bc8dff8dec",
   "metadata": {},
   "outputs": [],
   "source": [
    "user_embeddings_ails, item_embeddings_ails = ials(train_matrix, k=5, iterations=1, lambda_reg=0.1)\n",
    "ials_predictions = np.dot(user_embeddings_ails, item_embeddings_ails.T)\n"
   ]
  },
  {
   "cell_type": "code",
   "execution_count": 25,
   "id": "aa82ca33",
   "metadata": {},
   "outputs": [
    {
     "name": "stdout",
     "output_type": "stream",
     "text": [
      "0.0014561193986376644\n"
     ]
    }
   ],
   "source": [
    "mrr_ials = mrr(ials_predictions, test_matrix)\n",
    "print(mrr_ials)"
   ]
  },
  {
   "cell_type": "markdown",
   "id": "0ec74ade",
   "metadata": {},
   "source": [
    "## Adjust hyperparameters of ALS and IALS to maximize MRR (30 points)\n",
    "\n",
    "Main hyperparameters are regularization and weights for implicit case."
   ]
  },
  {
   "cell_type": "markdown",
   "id": "ea80bc04-b695-4f1a-87bc-7e40b47dbba2",
   "metadata": {},
   "source": [
    "### I used Grid search for ALS and random search for iALS "
   ]
  },
  {
   "cell_type": "code",
   "execution_count": 27,
   "id": "d5558e37",
   "metadata": {},
   "outputs": [
    {
     "data": {
      "application/vnd.jupyter.widget-view+json": {
       "model_id": "ed534b094df044119e8ac75a16a5eedd",
       "version_major": 2,
       "version_minor": 0
      },
      "text/plain": [
       "Grid Search ALS:   0%|          | 0/3 [00:00<?, ?it/s]"
      ]
     },
     "metadata": {},
     "output_type": "display_data"
    },
    {
     "name": "stdout",
     "output_type": "stream",
     "text": [
      "Best hyperparameters for ALS: {'k': 10, 'alpha': 0.01, 'lambda_reg': 0.01}\n",
      "Best MRR ALS @100: 0.17472572748568868\n"
     ]
    }
   ],
   "source": [
    "best_mrr_als = -1\n",
    "best_hyperparams_als = {}\n",
    "\n",
    "k_values = [10, 20, 50]\n",
    "alpha_values = [0.01, 0.1, 0.5]\n",
    "lambda_values = [0.01, 0.1, 1.0]\n",
    "\n",
    "for k in tqdm(k_values, desc='Grid Search ALS'):\n",
    "    for alpha in alpha_values:\n",
    "        for lambda_reg in lambda_values:\n",
    "            user_embeddings, item_embeddings = als(train_matrix, k=k, iterations=1, alpha=alpha, lambda_reg=lambda_reg)\n",
    "            als_predictions = np.dot(user_embeddings, item_embeddings.T)\n",
    "            mrr_als = mrr(als_predictions, test_matrix)\n",
    "\n",
    "            if mrr_als > best_mrr_als:\n",
    "                best_mrr_als = mrr_als\n",
    "                best_hyperparams_als = {'k': k, 'alpha': alpha, 'lambda_reg': lambda_reg}\n",
    "\n",
    "print(\"Best hyperparameters for ALS:\", best_hyperparams_als)\n",
    "print(\"Best MRR ALS @100:\", best_mrr_als)\n"
   ]
  },
  {
   "cell_type": "code",
   "execution_count": 28,
   "id": "5fba6cc4-1ae4-47af-a554-7112b850a334",
   "metadata": {},
   "outputs": [
    {
     "data": {
      "application/vnd.jupyter.widget-view+json": {
       "model_id": "75d3a9bcb808415ead066c3168a1357d",
       "version_major": 2,
       "version_minor": 0
      },
      "text/plain": [
       "Random Search IALS:   0%|          | 0/3 [00:00<?, ?it/s]"
      ]
     },
     "metadata": {},
     "output_type": "display_data"
    },
    {
     "name": "stdout",
     "output_type": "stream",
     "text": [
      "Best hyperparameters for IALS: {'k': 50, 'alpha': 0.1, 'lambda_reg': 0.1}\n",
      "Best MRR IALS @100: 0.0027871976174532356\n"
     ]
    }
   ],
   "source": [
    "best_mrr_ials = -1\n",
    "best_hyperparams_ials = {}\n",
    "\n",
    "random_search_iterations = 3\n",
    "\n",
    "for _ in tqdm(range(random_search_iterations), desc='Random Search IALS'):\n",
    "    k = np.random.choice(k_values)\n",
    "    alpha = np.random.choice(alpha_values)\n",
    "    lambda_reg = np.random.choice(lambda_values)\n",
    "\n",
    "    user_embeddings_ials, item_embeddings_ials = ials(train_matrix, k=k, iterations=1, lambda_reg=lambda_reg)\n",
    "    ials_predictions = np.dot(user_embeddings_ials, item_embeddings_ials.T)\n",
    "    mrr_ials = mrr(ials_predictions, test_matrix)\n",
    "\n",
    "    if mrr_ials > best_mrr_ials:\n",
    "        best_mrr_ials = mrr_ials\n",
    "        best_hyperparams_ials = {'k': k, 'alpha': alpha, 'lambda_reg': lambda_reg}\n",
    "\n",
    "print(\"Best hyperparameters for IALS:\", best_hyperparams_ials)\n",
    "print(\"Best MRR IALS @100:\", best_mrr_ials)"
   ]
  },
  {
   "cell_type": "markdown",
   "id": "4b1bfd4f",
   "metadata": {},
   "source": [
    "## Get similarities from item2item CF and SLIM (10 points each)\n",
    "\n",
    "Item2item can be taken from the first homework, SLIM was implemented in the class.\n",
    "\n",
    "You need to compute only item similarities, not predictions for users."
   ]
  },
  {
   "cell_type": "code",
   "execution_count": 29,
   "id": "6bc36927-0166-4ed6-b189-d67b6ac99acf",
   "metadata": {},
   "outputs": [],
   "source": [
    "from sklearn.metrics.pairwise import cosine_similarity\n",
    "def item_item_cf_similarity(ratings: np.ndarray):\n",
    "    item_similarity = cosine_similarity(ratings.T, dense_output=False)\n",
    "    return item_similarity"
   ]
  },
  {
   "cell_type": "code",
   "execution_count": 30,
   "id": "33435a61",
   "metadata": {},
   "outputs": [],
   "source": [
    "i2i_similarities = item_item_cf_similarity(train_matrix)"
   ]
  },
  {
   "cell_type": "code",
   "execution_count": 31,
   "id": "94d202e1-9393-4dd9-b9c7-814bbf5f341d",
   "metadata": {},
   "outputs": [
    {
     "data": {
      "text/plain": [
       "(10038, 10038)"
      ]
     },
     "execution_count": 31,
     "metadata": {},
     "output_type": "execute_result"
    }
   ],
   "source": [
    "i2i_similarities.shape"
   ]
  },
  {
   "cell_type": "markdown",
   "id": "438d6571-8d3e-4175-88a2-db94ff0751ee",
   "metadata": {},
   "source": [
    "## Slim took sooo long and i had to finish it before the deadline so in the next function i took a subsample."
   ]
  },
  {
   "cell_type": "code",
   "execution_count": 32,
   "id": "32bf78b8-6abf-4338-95dc-322c52d8a582",
   "metadata": {},
   "outputs": [],
   "source": [
    "from sklearn.linear_model import ElasticNet\n",
    "\n",
    "def slim_similarity(ratings, alpha=0.01, l1_ratio=0.1):\n",
    "    num_items = ratings.shape[1]\n",
    "    item_similarity = np.zeros((num_items, num_items))\n",
    "\n",
    "    for i in tqdm(range(num_items), desc='Calculating SLIM Similarity'):\n",
    "        model = ElasticNet(alpha=alpha, l1_ratio=l1_ratio, positive=True)\n",
    "        target_ratings = ratings[:, i].copy()\n",
    "        \n",
    "        target_ratings[target_ratings > 0] = 1\n",
    "        target_ratings = target_ratings.toarray().ravel()\n",
    "        target_ratings = target_ratings.astype(float)\n",
    "        model.fit(ratings, target_ratings)\n",
    "        item_similarity[i, :] = model.coef_\n",
    "    \n",
    "    item_similarity = item_similarity / np.sum(np.abs(item_similarity), axis=1)\n",
    "\n",
    "    return item_similarity\n"
   ]
  },
  {
   "cell_type": "code",
   "execution_count": 33,
   "id": "dedd6577-d0de-4e13-8fe7-3db9a5c6370a",
   "metadata": {
    "scrolled": true
   },
   "outputs": [
    {
     "data": {
      "application/vnd.jupyter.widget-view+json": {
       "model_id": "eda7b69e50aa4dcc9a6a168e6c3f720c",
       "version_major": 2,
       "version_minor": 0
      },
      "text/plain": [
       "Calculating SLIM Similarity:   0%|          | 0/10038 [00:00<?, ?it/s]"
      ]
     },
     "metadata": {},
     "output_type": "display_data"
    },
    {
     "ename": "KeyboardInterrupt",
     "evalue": "",
     "output_type": "error",
     "traceback": [
      "\u001b[0;31m---------------------------------------------------------------------------\u001b[0m",
      "\u001b[0;31mKeyboardInterrupt\u001b[0m                         Traceback (most recent call last)",
      "Cell \u001b[0;32mIn[33], line 1\u001b[0m\n\u001b[0;32m----> 1\u001b[0m item_similarity_slim \u001b[38;5;241m=\u001b[39m \u001b[43mslim_similarity\u001b[49m\u001b[43m(\u001b[49m\u001b[43mtrain_matrix\u001b[49m\u001b[43m)\u001b[49m\n",
      "Cell \u001b[0;32mIn[32], line 14\u001b[0m, in \u001b[0;36mslim_similarity\u001b[0;34m(ratings, alpha, l1_ratio)\u001b[0m\n\u001b[1;32m     12\u001b[0m     target_ratings \u001b[38;5;241m=\u001b[39m target_ratings\u001b[38;5;241m.\u001b[39mtoarray()\u001b[38;5;241m.\u001b[39mravel()\n\u001b[1;32m     13\u001b[0m     target_ratings \u001b[38;5;241m=\u001b[39m target_ratings\u001b[38;5;241m.\u001b[39mastype(\u001b[38;5;28mfloat\u001b[39m)\n\u001b[0;32m---> 14\u001b[0m     \u001b[43mmodel\u001b[49m\u001b[38;5;241;43m.\u001b[39;49m\u001b[43mfit\u001b[49m\u001b[43m(\u001b[49m\u001b[43mratings\u001b[49m\u001b[43m,\u001b[49m\u001b[43m \u001b[49m\u001b[43mtarget_ratings\u001b[49m\u001b[43m)\u001b[49m\n\u001b[1;32m     15\u001b[0m     item_similarity[i, :] \u001b[38;5;241m=\u001b[39m model\u001b[38;5;241m.\u001b[39mcoef_\n\u001b[1;32m     17\u001b[0m item_similarity \u001b[38;5;241m=\u001b[39m item_similarity \u001b[38;5;241m/\u001b[39m np\u001b[38;5;241m.\u001b[39msum(np\u001b[38;5;241m.\u001b[39mabs(item_similarity), axis\u001b[38;5;241m=\u001b[39m\u001b[38;5;241m1\u001b[39m)\n",
      "File \u001b[0;32m~/anaconda3/lib/python3.10/site-packages/sklearn/base.py:1152\u001b[0m, in \u001b[0;36m_fit_context.<locals>.decorator.<locals>.wrapper\u001b[0;34m(estimator, *args, **kwargs)\u001b[0m\n\u001b[1;32m   1145\u001b[0m     estimator\u001b[38;5;241m.\u001b[39m_validate_params()\n\u001b[1;32m   1147\u001b[0m \u001b[38;5;28;01mwith\u001b[39;00m config_context(\n\u001b[1;32m   1148\u001b[0m     skip_parameter_validation\u001b[38;5;241m=\u001b[39m(\n\u001b[1;32m   1149\u001b[0m         prefer_skip_nested_validation \u001b[38;5;129;01mor\u001b[39;00m global_skip_validation\n\u001b[1;32m   1150\u001b[0m     )\n\u001b[1;32m   1151\u001b[0m ):\n\u001b[0;32m-> 1152\u001b[0m     \u001b[38;5;28;01mreturn\u001b[39;00m \u001b[43mfit_method\u001b[49m\u001b[43m(\u001b[49m\u001b[43mestimator\u001b[49m\u001b[43m,\u001b[49m\u001b[43m \u001b[49m\u001b[38;5;241;43m*\u001b[39;49m\u001b[43margs\u001b[49m\u001b[43m,\u001b[49m\u001b[43m \u001b[49m\u001b[38;5;241;43m*\u001b[39;49m\u001b[38;5;241;43m*\u001b[39;49m\u001b[43mkwargs\u001b[49m\u001b[43m)\u001b[49m\n",
      "File \u001b[0;32m~/anaconda3/lib/python3.10/site-packages/sklearn/linear_model/_coordinate_descent.py:1001\u001b[0m, in \u001b[0;36mElasticNet.fit\u001b[0;34m(self, X, y, sample_weight, check_input)\u001b[0m\n\u001b[1;32m    999\u001b[0m \u001b[38;5;28;01melse\u001b[39;00m:\n\u001b[1;32m   1000\u001b[0m     this_Xy \u001b[38;5;241m=\u001b[39m \u001b[38;5;28;01mNone\u001b[39;00m\n\u001b[0;32m-> 1001\u001b[0m _, this_coef, this_dual_gap, this_iter \u001b[38;5;241m=\u001b[39m \u001b[38;5;28;43mself\u001b[39;49m\u001b[38;5;241;43m.\u001b[39;49m\u001b[43mpath\u001b[49m\u001b[43m(\u001b[49m\n\u001b[1;32m   1002\u001b[0m \u001b[43m    \u001b[49m\u001b[43mX\u001b[49m\u001b[43m,\u001b[49m\n\u001b[1;32m   1003\u001b[0m \u001b[43m    \u001b[49m\u001b[43my\u001b[49m\u001b[43m[\u001b[49m\u001b[43m:\u001b[49m\u001b[43m,\u001b[49m\u001b[43m \u001b[49m\u001b[43mk\u001b[49m\u001b[43m]\u001b[49m\u001b[43m,\u001b[49m\n\u001b[1;32m   1004\u001b[0m \u001b[43m    \u001b[49m\u001b[43ml1_ratio\u001b[49m\u001b[38;5;241;43m=\u001b[39;49m\u001b[38;5;28;43mself\u001b[39;49m\u001b[38;5;241;43m.\u001b[39;49m\u001b[43ml1_ratio\u001b[49m\u001b[43m,\u001b[49m\n\u001b[1;32m   1005\u001b[0m \u001b[43m    \u001b[49m\u001b[43meps\u001b[49m\u001b[38;5;241;43m=\u001b[39;49m\u001b[38;5;28;43;01mNone\u001b[39;49;00m\u001b[43m,\u001b[49m\n\u001b[1;32m   1006\u001b[0m \u001b[43m    \u001b[49m\u001b[43mn_alphas\u001b[49m\u001b[38;5;241;43m=\u001b[39;49m\u001b[38;5;28;43;01mNone\u001b[39;49;00m\u001b[43m,\u001b[49m\n\u001b[1;32m   1007\u001b[0m \u001b[43m    \u001b[49m\u001b[43malphas\u001b[49m\u001b[38;5;241;43m=\u001b[39;49m\u001b[43m[\u001b[49m\u001b[43malpha\u001b[49m\u001b[43m]\u001b[49m\u001b[43m,\u001b[49m\n\u001b[1;32m   1008\u001b[0m \u001b[43m    \u001b[49m\u001b[43mprecompute\u001b[49m\u001b[38;5;241;43m=\u001b[39;49m\u001b[43mprecompute\u001b[49m\u001b[43m,\u001b[49m\n\u001b[1;32m   1009\u001b[0m \u001b[43m    \u001b[49m\u001b[43mXy\u001b[49m\u001b[38;5;241;43m=\u001b[39;49m\u001b[43mthis_Xy\u001b[49m\u001b[43m,\u001b[49m\n\u001b[1;32m   1010\u001b[0m \u001b[43m    \u001b[49m\u001b[43mcopy_X\u001b[49m\u001b[38;5;241;43m=\u001b[39;49m\u001b[38;5;28;43;01mTrue\u001b[39;49;00m\u001b[43m,\u001b[49m\n\u001b[1;32m   1011\u001b[0m \u001b[43m    \u001b[49m\u001b[43mcoef_init\u001b[49m\u001b[38;5;241;43m=\u001b[39;49m\u001b[43mcoef_\u001b[49m\u001b[43m[\u001b[49m\u001b[43mk\u001b[49m\u001b[43m]\u001b[49m\u001b[43m,\u001b[49m\n\u001b[1;32m   1012\u001b[0m \u001b[43m    \u001b[49m\u001b[43mverbose\u001b[49m\u001b[38;5;241;43m=\u001b[39;49m\u001b[38;5;28;43;01mFalse\u001b[39;49;00m\u001b[43m,\u001b[49m\n\u001b[1;32m   1013\u001b[0m \u001b[43m    \u001b[49m\u001b[43mreturn_n_iter\u001b[49m\u001b[38;5;241;43m=\u001b[39;49m\u001b[38;5;28;43;01mTrue\u001b[39;49;00m\u001b[43m,\u001b[49m\n\u001b[1;32m   1014\u001b[0m \u001b[43m    \u001b[49m\u001b[43mpositive\u001b[49m\u001b[38;5;241;43m=\u001b[39;49m\u001b[38;5;28;43mself\u001b[39;49m\u001b[38;5;241;43m.\u001b[39;49m\u001b[43mpositive\u001b[49m\u001b[43m,\u001b[49m\n\u001b[1;32m   1015\u001b[0m \u001b[43m    \u001b[49m\u001b[43mcheck_input\u001b[49m\u001b[38;5;241;43m=\u001b[39;49m\u001b[38;5;28;43;01mFalse\u001b[39;49;00m\u001b[43m,\u001b[49m\n\u001b[1;32m   1016\u001b[0m \u001b[43m    \u001b[49m\u001b[38;5;66;43;03m# from here on **params\u001b[39;49;00m\n\u001b[1;32m   1017\u001b[0m \u001b[43m    \u001b[49m\u001b[43mtol\u001b[49m\u001b[38;5;241;43m=\u001b[39;49m\u001b[38;5;28;43mself\u001b[39;49m\u001b[38;5;241;43m.\u001b[39;49m\u001b[43mtol\u001b[49m\u001b[43m,\u001b[49m\n\u001b[1;32m   1018\u001b[0m \u001b[43m    \u001b[49m\u001b[43mX_offset\u001b[49m\u001b[38;5;241;43m=\u001b[39;49m\u001b[43mX_offset\u001b[49m\u001b[43m,\u001b[49m\n\u001b[1;32m   1019\u001b[0m \u001b[43m    \u001b[49m\u001b[43mX_scale\u001b[49m\u001b[38;5;241;43m=\u001b[39;49m\u001b[43mX_scale\u001b[49m\u001b[43m,\u001b[49m\n\u001b[1;32m   1020\u001b[0m \u001b[43m    \u001b[49m\u001b[43mmax_iter\u001b[49m\u001b[38;5;241;43m=\u001b[39;49m\u001b[38;5;28;43mself\u001b[39;49m\u001b[38;5;241;43m.\u001b[39;49m\u001b[43mmax_iter\u001b[49m\u001b[43m,\u001b[49m\n\u001b[1;32m   1021\u001b[0m \u001b[43m    \u001b[49m\u001b[43mrandom_state\u001b[49m\u001b[38;5;241;43m=\u001b[39;49m\u001b[38;5;28;43mself\u001b[39;49m\u001b[38;5;241;43m.\u001b[39;49m\u001b[43mrandom_state\u001b[49m\u001b[43m,\u001b[49m\n\u001b[1;32m   1022\u001b[0m \u001b[43m    \u001b[49m\u001b[43mselection\u001b[49m\u001b[38;5;241;43m=\u001b[39;49m\u001b[38;5;28;43mself\u001b[39;49m\u001b[38;5;241;43m.\u001b[39;49m\u001b[43mselection\u001b[49m\u001b[43m,\u001b[49m\n\u001b[1;32m   1023\u001b[0m \u001b[43m    \u001b[49m\u001b[43msample_weight\u001b[49m\u001b[38;5;241;43m=\u001b[39;49m\u001b[43msample_weight\u001b[49m\u001b[43m,\u001b[49m\n\u001b[1;32m   1024\u001b[0m \u001b[43m\u001b[49m\u001b[43m)\u001b[49m\n\u001b[1;32m   1025\u001b[0m coef_[k] \u001b[38;5;241m=\u001b[39m this_coef[:, \u001b[38;5;241m0\u001b[39m]\n\u001b[1;32m   1026\u001b[0m dual_gaps_[k] \u001b[38;5;241m=\u001b[39m this_dual_gap[\u001b[38;5;241m0\u001b[39m]\n",
      "File \u001b[0;32m~/anaconda3/lib/python3.10/site-packages/sklearn/linear_model/_coordinate_descent.py:589\u001b[0m, in \u001b[0;36menet_path\u001b[0;34m(X, y, l1_ratio, eps, n_alphas, alphas, precompute, Xy, copy_X, coef_init, verbose, return_n_iter, positive, check_input, **params)\u001b[0m\n\u001b[1;32m    587\u001b[0m l2_reg \u001b[38;5;241m=\u001b[39m alpha \u001b[38;5;241m*\u001b[39m (\u001b[38;5;241m1.0\u001b[39m \u001b[38;5;241m-\u001b[39m l1_ratio) \u001b[38;5;241m*\u001b[39m n_samples\n\u001b[1;32m    588\u001b[0m \u001b[38;5;28;01mif\u001b[39;00m \u001b[38;5;129;01mnot\u001b[39;00m multi_output \u001b[38;5;129;01mand\u001b[39;00m sparse\u001b[38;5;241m.\u001b[39missparse(X):\n\u001b[0;32m--> 589\u001b[0m     model \u001b[38;5;241m=\u001b[39m \u001b[43mcd_fast\u001b[49m\u001b[38;5;241;43m.\u001b[39;49m\u001b[43msparse_enet_coordinate_descent\u001b[49m\u001b[43m(\u001b[49m\n\u001b[1;32m    590\u001b[0m \u001b[43m        \u001b[49m\u001b[43mw\u001b[49m\u001b[38;5;241;43m=\u001b[39;49m\u001b[43mcoef_\u001b[49m\u001b[43m,\u001b[49m\n\u001b[1;32m    591\u001b[0m \u001b[43m        \u001b[49m\u001b[43malpha\u001b[49m\u001b[38;5;241;43m=\u001b[39;49m\u001b[43ml1_reg\u001b[49m\u001b[43m,\u001b[49m\n\u001b[1;32m    592\u001b[0m \u001b[43m        \u001b[49m\u001b[43mbeta\u001b[49m\u001b[38;5;241;43m=\u001b[39;49m\u001b[43ml2_reg\u001b[49m\u001b[43m,\u001b[49m\n\u001b[1;32m    593\u001b[0m \u001b[43m        \u001b[49m\u001b[43mX_data\u001b[49m\u001b[38;5;241;43m=\u001b[39;49m\u001b[43mX\u001b[49m\u001b[38;5;241;43m.\u001b[39;49m\u001b[43mdata\u001b[49m\u001b[43m,\u001b[49m\n\u001b[1;32m    594\u001b[0m \u001b[43m        \u001b[49m\u001b[43mX_indices\u001b[49m\u001b[38;5;241;43m=\u001b[39;49m\u001b[43mX\u001b[49m\u001b[38;5;241;43m.\u001b[39;49m\u001b[43mindices\u001b[49m\u001b[43m,\u001b[49m\n\u001b[1;32m    595\u001b[0m \u001b[43m        \u001b[49m\u001b[43mX_indptr\u001b[49m\u001b[38;5;241;43m=\u001b[39;49m\u001b[43mX\u001b[49m\u001b[38;5;241;43m.\u001b[39;49m\u001b[43mindptr\u001b[49m\u001b[43m,\u001b[49m\n\u001b[1;32m    596\u001b[0m \u001b[43m        \u001b[49m\u001b[43my\u001b[49m\u001b[38;5;241;43m=\u001b[39;49m\u001b[43my\u001b[49m\u001b[43m,\u001b[49m\n\u001b[1;32m    597\u001b[0m \u001b[43m        \u001b[49m\u001b[43msample_weight\u001b[49m\u001b[38;5;241;43m=\u001b[39;49m\u001b[43msample_weight\u001b[49m\u001b[43m,\u001b[49m\n\u001b[1;32m    598\u001b[0m \u001b[43m        \u001b[49m\u001b[43mX_mean\u001b[49m\u001b[38;5;241;43m=\u001b[39;49m\u001b[43mX_sparse_scaling\u001b[49m\u001b[43m,\u001b[49m\n\u001b[1;32m    599\u001b[0m \u001b[43m        \u001b[49m\u001b[43mmax_iter\u001b[49m\u001b[38;5;241;43m=\u001b[39;49m\u001b[43mmax_iter\u001b[49m\u001b[43m,\u001b[49m\n\u001b[1;32m    600\u001b[0m \u001b[43m        \u001b[49m\u001b[43mtol\u001b[49m\u001b[38;5;241;43m=\u001b[39;49m\u001b[43mtol\u001b[49m\u001b[43m,\u001b[49m\n\u001b[1;32m    601\u001b[0m \u001b[43m        \u001b[49m\u001b[43mrng\u001b[49m\u001b[38;5;241;43m=\u001b[39;49m\u001b[43mrng\u001b[49m\u001b[43m,\u001b[49m\n\u001b[1;32m    602\u001b[0m \u001b[43m        \u001b[49m\u001b[43mrandom\u001b[49m\u001b[38;5;241;43m=\u001b[39;49m\u001b[43mrandom\u001b[49m\u001b[43m,\u001b[49m\n\u001b[1;32m    603\u001b[0m \u001b[43m        \u001b[49m\u001b[43mpositive\u001b[49m\u001b[38;5;241;43m=\u001b[39;49m\u001b[43mpositive\u001b[49m\u001b[43m,\u001b[49m\n\u001b[1;32m    604\u001b[0m \u001b[43m    \u001b[49m\u001b[43m)\u001b[49m\n\u001b[1;32m    605\u001b[0m \u001b[38;5;28;01melif\u001b[39;00m multi_output:\n\u001b[1;32m    606\u001b[0m     model \u001b[38;5;241m=\u001b[39m cd_fast\u001b[38;5;241m.\u001b[39menet_coordinate_descent_multi_task(\n\u001b[1;32m    607\u001b[0m         coef_, l1_reg, l2_reg, X, y, max_iter, tol, rng, random\n\u001b[1;32m    608\u001b[0m     )\n",
      "\u001b[0;31mKeyboardInterrupt\u001b[0m: "
     ]
    }
   ],
   "source": [
    "item_similarity_slim = slim_similarity(train_matrix)"
   ]
  },
  {
   "cell_type": "code",
   "execution_count": 34,
   "id": "09fd4ea1-4052-4581-9ee0-2e368a0cdcd3",
   "metadata": {},
   "outputs": [
    {
     "data": {
      "application/vnd.jupyter.widget-view+json": {
       "model_id": "58d41888985f4b16962c4072daf47957",
       "version_major": 2,
       "version_minor": 0
      },
      "text/plain": [
       "Calculating SLIM Similarity:   0%|          | 0/1003 [00:00<?, ?it/s]"
      ]
     },
     "metadata": {},
     "output_type": "display_data"
    },
    {
     "name": "stderr",
     "output_type": "stream",
     "text": [
      "/var/folders/ym/28xx549x3z9g7t4t99hld8gh0000gn/T/ipykernel_6170/1302410049.py:14: RuntimeWarning: invalid value encountered in divide\n",
      "  item_similarity = item_similarity / np.sum(np.abs(item_similarity), axis=1)\n"
     ]
    }
   ],
   "source": [
    "def slim_similarity_subsampled_items(ratings, alpha=0.01, l1_ratio=0.1, subsample_fraction=0.1):\n",
    "    num_items = ratings.shape[1]\n",
    "    num_items_to_sample = int(subsample_fraction * num_items)\n",
    "    sampled_item_indices = np.random.choice(num_items, num_items_to_sample, replace=False)\n",
    "    item_similarity = np.zeros((num_items, num_items))\n",
    "    for i in tqdm(sampled_item_indices, desc='Calculating SLIM Similarity'):\n",
    "        model = ElasticNet(alpha=alpha, l1_ratio=l1_ratio, positive=True)\n",
    "        target_ratings = ratings[:, i].copy()\n",
    "        target_ratings[target_ratings > 0] = 1\n",
    "        target_ratings = target_ratings.toarray().ravel()\n",
    "        target_ratings = target_ratings.astype(float)\n",
    "        model.fit(ratings[:, sampled_item_indices], target_ratings)\n",
    "        item_similarity[i, sampled_item_indices] = model.coef_\n",
    "    item_similarity = item_similarity / np.sum(np.abs(item_similarity), axis=1)\n",
    "    return item_similarity\n",
    "item_similarity_slim_subsampled = slim_similarity_subsampled_items(train_matrix)\n"
   ]
  },
  {
   "cell_type": "markdown",
   "id": "2d6b19e8",
   "metadata": {},
   "source": [
    "## Compare similarities from four algorithms (20 points)\n",
    "\n",
    "* plot distributions\n",
    "* compute metrics (which you think are relevant)\n",
    "* look at several top similar lists\n",
    "\n",
    "Make conclusion how these methods differ in computing similarities"
   ]
  },
  {
   "cell_type": "code",
   "execution_count": 35,
   "id": "4a7d9d8d",
   "metadata": {
    "ExecuteTime": {
     "end_time": "2023-11-06T05:10:53.235810Z",
     "start_time": "2023-11-06T05:10:53.229989Z"
    }
   },
   "outputs": [],
   "source": [
    "item_similarity_ials = cosine_similarity(item_embeddings_ails)\n"
   ]
  },
  {
   "cell_type": "code",
   "execution_count": 36,
   "id": "9868a3a4-f9f7-41b1-b14e-0d915c158e1c",
   "metadata": {},
   "outputs": [],
   "source": [
    "item_similarity_als = cosine_similarity(item_embeddings)"
   ]
  },
  {
   "cell_type": "code",
   "execution_count": 38,
   "id": "6da8c7c1-81af-439a-96ad-82d8c9b1f398",
   "metadata": {},
   "outputs": [
    {
     "data": {
      "text/plain": [
       "Text(0.5, 1.0, 'iALS Similarity Distribution')"
      ]
     },
     "execution_count": 38,
     "metadata": {},
     "output_type": "execute_result"
    },
    {
     "data": {
      "image/png": "[encoded data removed]",
      "text/plain": [
       "<Figure size 1200x800 with 1 Axes>"
      ]
     },
     "metadata": {},
     "output_type": "display_data"
    }
   ],
   "source": [
    "import matplotlib.pyplot as plt\n",
    "import seaborn as sns\n",
    "from sklearn.metrics.pairwise import cosine_similarity\n",
    "plt.figure(figsize=(12, 8))\n",
    "# plt.subplot(2, 2, 1)\n",
    "sns.histplot(item_similarity_ials.flatten(), bins=50, kde=True)\n",
    "plt.title('iALS Similarity Distribution')\n",
    "\n",
    "\n",
    "\n"
   ]
  },
  {
   "cell_type": "code",
   "execution_count": 39,
   "id": "3acdf7c4-5068-44dc-b4ac-bf440f2af031",
   "metadata": {},
   "outputs": [
    {
     "data": {
      "text/plain": [
       "Text(0.5, 1.0, 'ALS Similarity Distribution')"
      ]
     },
     "execution_count": 39,
     "metadata": {},
     "output_type": "execute_result"
    },
    {
     "data": {
      "image/png": "[encoded data removed]",
      "text/plain": [
       "<Figure size 640x480 with 1 Axes>"
      ]
     },
     "metadata": {},
     "output_type": "display_data"
    }
   ],
   "source": [
    "sns.histplot(item_similarity_als.flatten(), bins=50, kde=True)\n",
    "plt.title('ALS Similarity Distribution')"
   ]
  },
  {
   "cell_type": "code",
   "execution_count": 41,
   "id": "c5b6ab39-0bd2-4cd8-9b3e-2ed0d3b5ba95",
   "metadata": {},
   "outputs": [
    {
     "data": {
      "text/plain": [
       "Text(0.5, 1.0, 'SLIM Similarity Distribution')"
      ]
     },
     "execution_count": 41,
     "metadata": {},
     "output_type": "execute_result"
    },
    {
     "data": {
      "image/png": "[encoded data removed]",
      "text/plain": [
       "<Figure size 640x480 with 1 Axes>"
      ]
     },
     "metadata": {},
     "output_type": "display_data"
    }
   ],
   "source": [
    "sns.histplot(item_similarity_slim_subsampled.flatten(), bins=50, kde=True)\n",
    "plt.title('SLIM Similarity Distribution')\n"
   ]
  },
  {
   "cell_type": "code",
   "execution_count": 42,
   "id": "73b79c15-2e56-42c4-b644-54ea8c97e940",
   "metadata": {},
   "outputs": [
    {
     "data": {
      "text/plain": [
       "Text(0.5, 1.0, 'I2I Similarity Distribution')"
      ]
     },
     "execution_count": 42,
     "metadata": {},
     "output_type": "execute_result"
    },
    {
     "data": {
      "image/png": "[encoded data removed]",
      "text/plain": [
       "<Figure size 640x480 with 1 Axes>"
      ]
     },
     "metadata": {},
     "output_type": "display_data"
    }
   ],
   "source": [
    "sns.histplot(i2i_similarities.toarray().flatten(), bins=50, kde=True)\n",
    "plt.title('I2I Similarity Distribution')"
   ]
  },
  {
   "cell_type": "code",
   "execution_count": 43,
   "id": "efa07e00-3b0c-4ff0-85d9-2742da392f43",
   "metadata": {},
   "outputs": [
    {
     "name": "stdout",
     "output_type": "stream",
     "text": [
      "Metrics:\n",
      "{'iALS': {'mean': 0.9678734187891216, 'median': 0.9780042551889133, 'std': 0.03824300352559569, 'min': -0.48351584858823543, 'max': 1.0000000000000004}, 'ALS': {'mean': 0.802807430985209, 'median': 1.0, 'std': 0.39787895111470684, 'min': 0.0, 'max': 1.0000000000000009}, 'SLIM': {'mean': nan, 'median': nan, 'std': nan, 'min': nan, 'max': nan}, 'I2I': {'mean': 0.008505860358965424, 'median': 0.0, 'std': 0.0389378764711437, 'min': 0.0, 'max': 1.0000000000000109}}\n",
      "\n",
      "Top 5 similar items using iALS:\n",
      "\n",
      "Item 0: [   0 8695 8240 4686  799]\n",
      "Item 1: [   1 5256 9989 9083 7795]\n",
      "Item 2: [   2 1202 7515 1067 6368]\n",
      "\n",
      "Top 5 similar items using ALS:\n",
      "\n",
      "Item 0: [8055 9838 3520 3521 5238]\n",
      "Item 1: [7146 1309 4987 8329 6303]\n",
      "Item 2: [3336 7588 3447 8704 6868]\n",
      "\n",
      "Top 5 similar items using SLIM:\n",
      "\n",
      "Item 0: [10037  3523  3521  3519  3518]\n",
      "Item 1: [10037  3523  3521  3519  3518]\n",
      "Item 2: [10037  3523  3521  3519  3518]\n",
      "\n",
      "Top 5 similar items using I2I:\n",
      "\n",
      "Item 0: [0]\n",
      "Item 1: [0]\n",
      "Item 2: [0]\n"
     ]
    }
   ],
   "source": [
    "metrics = {\n",
    "    'iALS': {\n",
    "        'mean': item_similarity_ials.mean(),\n",
    "        'median': np.median(item_similarity_ials),\n",
    "        'std': item_similarity_ials.std(),\n",
    "        'min': item_similarity_ials.min(),\n",
    "        'max': item_similarity_ials.max()\n",
    "    },\n",
    "    'ALS': {\n",
    "        'mean': item_similarity_als.mean(),\n",
    "        'median': np.median(item_similarity_als),\n",
    "        'std': item_similarity_als.std(),\n",
    "        'min': item_similarity_als.min(),\n",
    "        'max': item_similarity_als.max()\n",
    "    },\n",
    "    'SLIM': {\n",
    "        'mean': item_similarity_slim_subsampled.mean(),\n",
    "        'median': np.median(item_similarity_slim_subsampled),\n",
    "        'std': item_similarity_slim_subsampled.std(),\n",
    "        'min': item_similarity_slim_subsampled.min(),\n",
    "        'max': item_similarity_slim_subsampled.max()\n",
    "    },\n",
    "    'I2I': {\n",
    "        'mean': i2i_similarities.mean(),\n",
    "        'median': np.median(i2i_similarities.toarray()),\n",
    "        'std': i2i_similarities.data.std(),\n",
    "\n",
    "        'min': i2i_similarities.min(),\n",
    "        'max': i2i_similarities.max()\n",
    "    }\n",
    "}\n",
    "\n",
    "print(\"Metrics:\")\n",
    "print(metrics)\n",
    "top_n = 5\n",
    "example_item_indices = [0, 1, 2] \n",
    "\n",
    "for algorithm, similarity_matrix in zip(['iALS', 'ALS', 'SLIM', 'I2I'],\n",
    "                                        [item_similarity_ials, item_similarity_als, item_similarity_slim_subsampled, i2i_similarities]):\n",
    "    print(f\"\\nTop {top_n} similar items using {algorithm}:\\n\")\n",
    "    for item_index in example_item_indices:\n",
    "        # Find top N similar items for each example\n",
    "        top_similar_indices = np.argsort(similarity_matrix[item_index, :])[::-1][:top_n]\n",
    "        print(f\"Item {item_index}: {top_similar_indices}\")\n"
   ]
  },
  {
   "cell_type": "markdown",
   "id": "5544dc69",
   "metadata": {
    "ExecuteTime": {
     "end_time": "2023-11-06T05:12:40.299803Z",
     "start_time": "2023-11-06T05:12:40.290403Z"
    }
   },
   "source": [
    "## Conclusion:\n",
    "\n",
    "...."
   ]
  },
  {
   "cell_type": "markdown",
   "id": "d23349df-4f6d-471d-a4e0-155bdcdf516e",
   "metadata": {},
   "source": [
    "Unfortunately the SLIM algorithm's similarity metrics resulted in NaN values, which might be due to some numerical instability or an issue with the implementation!!\n",
    "\n",
    "**For the other algorithms:**\n",
    "\n",
    "iALS: The mean and median values are relatively high, showing a strong positive similarity. The standard deviation is relatively low, suggesting that the values are clustered around the mean. The minimum and maximum values indicate a range from negative to positive similarities.\n",
    "\n",
    "ALS: Similar to iALS, ALS shows high mean and median values, with a wider standard deviation. The minimum is 0, and the maximum is 1, suggesting a binary nature of the similarities.\n",
    "\n",
    "I2I: The mean and median are low, indicating weaker overall similarities. The standard deviation is relatively high, suggesting a wider spread of values. The minimum is 0, and the maximum is 1, indicating binary similarities.\n",
    "\n"
   ]
  },
  {
   "cell_type": "code",
   "execution_count": null,
   "id": "f81c5598-14d3-44eb-9b6d-8f2578afafb1",
   "metadata": {},
   "outputs": [],
   "source": []
  }
 ],
 "metadata": {
  "finalized": {
   "timestamp": 1686173501421,
   "trusted": false
  },
  "kernelspec": {
   "display_name": "Python 3 (ipykernel)",
   "language": "python",
   "name": "python3"
  },
  "language_info": {
   "codemirror_mode": {
    "name": "ipython",
    "version": 3
   },
   "file_extension": ".py",
   "mimetype": "text/x-python",
   "name": "python",
   "nbconvert_exporter": "python",
   "pygments_lexer": "ipython3",
   "version": "3.10.12"
  },
  "toc": {
   "base_numbering": 1,
   "nav_menu": {},
   "number_sections": true,
   "sideBar": true,
   "skip_h1_title": false,
   "title_cell": "Table of Contents",
   "title_sidebar": "Contents",
   "toc_cell": false,
   "toc_position": {
    "height": "calc(100% - 180px)",
    "left": "10px",
    "top": "150px",
    "width": "302.398px"
   },
   "toc_section_display": true,
   "toc_window_display": true
  }
 },
 "nbformat": 4,
 "nbformat_minor": 5
}
